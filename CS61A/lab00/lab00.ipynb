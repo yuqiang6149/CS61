{
 "cells": [
  {
   "cell_type": "code",
   "execution_count": 2,
   "metadata": {},
   "outputs": [],
   "source": [
    "# %load lab00.py\n",
    "def twenty_eighteen():\n",
    "    \"\"\"Come up with the most creative expression that evaluates to 2018,\n",
    "    using only numbers and the +, *, and - operators.\n",
    "\n",
    "    >>> twenty_eighteen()\n",
    "    2018\n",
    "    \"\"\"\n",
    "    return 2000+18\n"
   ]
  }
 ],
 "metadata": {
  "kernelspec": {
   "display_name": "Python 3",
   "language": "python",
   "name": "python3"
  },
  "language_info": {
   "codemirror_mode": {
    "name": "ipython",
    "version": 3
   },
   "file_extension": ".py",
   "mimetype": "text/x-python",
   "name": "python",
   "nbconvert_exporter": "python",
   "pygments_lexer": "ipython3",
   "version": "3.6.8"
  }
 },
 "nbformat": 4,
 "nbformat_minor": 2
}
