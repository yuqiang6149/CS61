{
 "cells": [
  {
   "cell_type": "code",
   "execution_count": 1,
   "metadata": {},
   "outputs": [],
   "source": [
    "class A:\n",
    "    att1 = 0;\n",
    "class B:\n",
    "    att1 = 0;\n"
   ]
  },
  {
   "cell_type": "code",
   "execution_count": 10,
   "metadata": {},
   "outputs": [
    {
     "name": "stdout",
     "output_type": "stream",
     "text": [
      "1\n",
      "True\n",
      "<__main__.A object at 0x7f69d8e344e0>\n",
      "<__main__.A object at 0x7f69d8e34438>\n",
      "<__main__.A object at 0x7f69d8e344e0>\n"
     ]
    }
   ],
   "source": [
    "a = A();\n",
    "b = A();\n",
    "c = [a,b];\n",
    "d = c[:];\n",
    "d[0].att1 = 1;\n",
    "print(d[0].att1)\n",
    "print(c[0] is d[0])\n",
    "c.remove(a)\n",
    "for i in c:\n",
    "    print(i)\n",
    "for i in d:\n",
    "    print(i)"
   ]
  },
  {
   "cell_type": "code",
   "execution_count": null,
   "metadata": {},
   "outputs": [],
   "source": []
  }
 ],
 "metadata": {
  "kernelspec": {
   "display_name": "Python 3",
   "language": "python",
   "name": "python3"
  },
  "language_info": {
   "codemirror_mode": {
    "name": "ipython",
    "version": 3
   },
   "file_extension": ".py",
   "mimetype": "text/x-python",
   "name": "python",
   "nbconvert_exporter": "python",
   "pygments_lexer": "ipython3",
   "version": "3.6.8"
  }
 },
 "nbformat": 4,
 "nbformat_minor": 2
}
